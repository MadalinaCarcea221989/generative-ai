{
 "cells": [
  {
   "cell_type": "markdown",
   "metadata": {},
   "source": [
    "# Generative AI Challenge: Improving Scene Descriptions\n",
    "\n",
    "In this notebook, you will learn how to use the Llama model through the Ollama API to enhance scene descriptions by adding more details to the descriptions of the characters in a story. This is useful when working with generative AI models, where enriching the descriptions can help improve the generated images or story contexts."
   ]
  },
  {
   "cell_type": "markdown",
   "metadata": {},
   "source": [
    "### 1. Setting Up the Environment\n",
    "\n",
    "To start, you need to install the necessary package to interact with the Ollama server. This package cannot be installed via Conda, so you'll need to use pip:\n",
    "\n",
    "`pip install ollama`\n",
    "\n",
    "Once installed, you can proceed to interact with the Llama model via the Ollama API."
   ]
  },
  {
   "cell_type": "markdown",
   "metadata": {},
   "source": [
    "### 2. Basic Text Generation Using the  Ollama API\n",
    "\n",
    "We begin by importing the necessary library for this task:"
   ]
  },
  {
   "cell_type": "code",
   "execution_count": 2,
   "metadata": {},
   "outputs": [],
   "source": [
    "import base64\n",
    "from ollama import Client"
   ]
  },
  {
   "cell_type": "markdown",
   "metadata": {},
   "source": [
    "Next, we define the server address, authentication details, and the Llama model we will use for the task:\n",
    "- `ollama_server_address`: This is the address of the Ollama server where the Llama model is running.\n",
    "- `ollama_llm_model`: This specifies which model to use. In this example, we are using the Llama 3.1 8B model."
   ]
  },
  {
   "cell_type": "code",
   "execution_count": 3,
   "metadata": {},
   "outputs": [],
   "source": [
    "ollama_server_address = \"buas9.edirlei.com\"\n",
    "ollama_username = \"adsai\"\n",
    "ollama_password = \"uuUP4whjX29cF3cxwrX3SY5Mm9TmtASkdgpaNCTHZ9\"\n",
    "ollama_credentials = base64.b64encode(f\"{ollama_username}:{ollama_password}\".encode('utf-8')).decode('utf-8')\n",
    "ollama_auth_header = f\"Basic {ollama_credentials}\"\n",
    "\n",
    "ollama_llm_model = \"llama3.1:8b\""
   ]
  },
  {
   "cell_type": "markdown",
   "metadata": {},
   "source": [
    "Now we cab initialize the Ollama client with the server address:"
   ]
  },
  {
   "cell_type": "code",
   "execution_count": 4,
   "metadata": {},
   "outputs": [],
   "source": [
    "ollama_client = Client(host=f\"http://{ollama_server_address}\", headers = {\"Authorization\": ollama_auth_header})"
   ]
  },
  {
   "cell_type": "markdown",
   "metadata": {},
   "source": [
    "To see how the Ollama API works, we'll start with a simple example by asking the model a common question: Why is the sky blue?. The following code sends a request to the model, and then prints the response:"
   ]
  },
  {
   "cell_type": "code",
   "execution_count": 5,
   "metadata": {},
   "outputs": [
    {
     "name": "stdout",
     "output_type": "stream",
     "text": [
      "The sky appears blue to us because of a phenomenon called Rayleigh scattering, named after the British physicist Lord Rayleigh who first described it in the late 19th century. Here's why:\n",
      "\n",
      "1. **Sunlight Composition**: The sun emits light across all wavelengths of the visible spectrum (red, orange, yellow, green, blue, indigo, and violet). When this sunlight reaches the Earth's atmosphere, it is made up of a mix of these different colors.\n",
      "\n",
      "2. **Scattering by Gases and Particles**: The gases and tiny particles in the Earth's atmosphere scatter the light as it travels through space towards us. These particles are much smaller than the wavelength of visible light; thus, they scatter shorter (blue) wavelengths more efficiently than longer (red) wavelengths. This is because the size of these particles is comparable to the size of the blue and violet wavelengths of light.\n",
      "\n",
      "3. **Red Light Continues Unimpeded**: The larger red wavelengths are not scattered as much by the smaller atmospheric particles. As a result, they can travel straighter through the atmosphere with less scattering. When we see this unscattered (or \"unimpeded\") red light from distant stars or sun itself, it looks red because all other colors have been scattered away.\n",
      "\n",
      "4. **Blue Light Scattered in All Directions**: Blue wavelengths are scattered by atmospheric particles and reach our eyes from all directions within the sky. This is why the blue color appears more pronounced when you look upwards at a clear sky on a sunny day. The combination of sunlight that directly enters your eye with what has been scattered by the atmosphere results in the sky appearing blue.\n",
      "\n",
      "5. **Time of Day and Atmospheric Conditions**: During sunrise and sunset, the sun's rays travel through more of the Earth's atmosphere than during the middle of the day, scattering shorter wavelengths so much that red light dominates our view. Similarly, pollution and dust particles can also scatter sunlight in a way that gives the sky a hazy or dusty appearance.\n",
      "\n",
      "The color we see is essentially a combination of what has not been scattered (red) and what has been scattered by atmospheric gases and particles (blue). This phenomenon results in the brilliant blue color of our daytime sky.\n"
     ]
    }
   ],
   "source": [
    "response = ollama_client.chat(model=ollama_llm_model, messages=[\n",
    "  {\n",
    "    \"role\": \"user\",\n",
    "    \"content\": \"Why is the sky blue?\",\n",
    "  },\n",
    "])\n",
    "print(response[\"message\"][\"content\"])"
   ]
  },
  {
   "cell_type": "markdown",
   "metadata": {},
   "source": [
    "### 3. Improving Scene Descriptions Using the Ollama API\n",
    "\n",
    "Now, let's use the Llama model to enhance scene descriptions by describing the physical characteristics of the characters in the scenes. Let's first define a sequence of story events:"
   ]
  },
  {
   "cell_type": "code",
   "execution_count": 5,
   "metadata": {},
   "outputs": [],
   "source": [
    "story_1 = [\"Elara stares at an old map spread out on a wooden table, her hand resting on a lantern. She wears a worn leather jacket, and a satchel hangs at her side. The dim light flickers as she studies the map, deep in thought.\", \n",
    "           \"Elara hikes through a dense jungle, using a machete to clear her path. Sweat drips down her forehead, and her satchel bounces with each step. The sun filters through the thick canopy above her.\",\n",
    "           \"Elara stands at the entrance of an ancient stone temple, the wind whipping her hair. She adjusts her satchel and steps forward, determination in her eyes.\",\n",
    "           \"Inside the temple, Elara examines carvings on the wall, her lantern illuminating the worn stone. Her jacket is now unzipped, revealing a plain shirt underneath, as she runs her fingers over the markings.\",\n",
    "           \"Elara crouches beside a hidden chest, carefully prying it open. Inside, a glowing artifact rests on a bed of cloth. She glances around warily before gently lifting the artifact into her hands.\",\n",
    "           \"Elara races through the temple corridors, the artifact glowing brightly in her satchel. Her jacket flutters behind her as she dodges crumbling debris, her expression a mix of fear and urgency.\",\n",
    "           \"Outside the temple, Elara catches her breath, standing on a cliff with the jungle stretching out below. She looks at the artifact in her hand, a relieved smile spreading across her face as the sun sets behind her.\"]"
   ]
  },
  {
   "cell_type": "markdown",
   "metadata": {},
   "source": [
    "Next, we define the prompt that will instruct the model to rewrite the scene descriptions by adding physical characteristics:"
   ]
  },
  {
   "cell_type": "code",
   "execution_count": 6,
   "metadata": {},
   "outputs": [],
   "source": [
    "prompt_1 = \"Rewrite the provided scene description by adding the physical characteristics of characters mentioned in the scene. Write only the final scene description in a concise way without adding any commentary or header. Here is the scene: \""
   ]
  },
  {
   "cell_type": "markdown",
   "metadata": {},
   "source": [
    "We then loop through the story scenes and send each one to the Llama model, storing the improved versions in a new list:"
   ]
  },
  {
   "cell_type": "code",
   "execution_count": 7,
   "metadata": {},
   "outputs": [],
   "source": [
    "story_1_improved = []\n",
    "\n",
    "for i in range(len(story_1)):\n",
    "    response = ollama_client.chat(model=ollama_llm_model, messages=[\n",
    "        {\n",
    "            \"role\": \"user\",\n",
    "            \"content\": prompt_1 + story_1[i],\n",
    "        },\n",
    "    ])\n",
    "    story_1_improved.append(response[\"message\"][\"content\"])"
   ]
  },
  {
   "cell_type": "markdown",
   "metadata": {},
   "source": [
    "Finally, we print the improved scene descriptions:"
   ]
  },
  {
   "cell_type": "code",
   "execution_count": 8,
   "metadata": {},
   "outputs": [
    {
     "name": "stdout",
     "output_type": "stream",
     "text": [
      "IMPROVED SCENE 1: Elara, with her wild, curly brown hair and piercing emerald eyes, stares at an old map spread out on a wooden table, her hand resting on a lantern. Her worn leather jacket is stained and frayed from years of travel, and a satchel hangs at her side, its strap creaking under the weight of various trinkets and gadgets. The dim light flickers as she studies the map, deep in thought, her brow furrowed into a determined expression that speaks to her many trials and tribulations.\n",
      "IMPROVED SCENE 2: A woman with long, dark hair tied back in a messy bun and a scattering of freckles across her cheeks hikes through a dense jungle, using a machete to clear her path as she navigates around tangled vines and thorns. Sweat drips down her forehead, and the worn leather strap of her satchel bounces with each step, its canvas exterior stained from unknown substances. The sun filters through the thick canopy above her, casting dappled shadows on the forest floor.\n",
      "IMPROVED SCENE 3: Elara, with her unruly brown hair blowing wildly around her heart-shaped face and piercing emerald eyes, stands at the entrance of an ancient stone temple, the wind whipping her long coat and billowing its hem. Her fingers tighten on the strap of her worn leather satchel as she adjusts it, a look of fierce determination etched across her angular features.\n",
      "IMPROVED SCENE 4: Inside the temple, Elara, with long dark hair and piercing emerald eyes, examines intricate carvings on the wall, her lantern illuminating the worn stone beneath. Her leather jacket, now unzipped, reveals a plain white shirt underneath, as she runs her fingers over the markings, her slender hands moving deftly across the ancient stones.\n",
      "IMPROVED SCENE 5: Elara, a petite woman with long, curly brown hair and piercing emerald green eyes, crouches beside a hidden chest, carefully prying it open. Inside, a glowing artifact rests on a bed of cloth. She glances around warily before gently lifting the artifact into her hands.\n",
      "IMPROVED SCENE 6: Elara, a petite woman with short, spiky black hair and piercing emerald eyes, rushes through the temple corridors, the artifact's soft blue glow illuminating the dark space from within her satchel. Her worn leather jacket flails behind her like a dark wing as she dodges crumbling stone and flickering torches, her face a map of worry etched across high cheekbones and a pointed chin.\n",
      "IMPROVED SCENE 7: Outside the temple, Elara - a petite, raven-haired woman with piercing emerald eyes and an athletic build - catches her breath, standing on a cliff with the dense jungle stretching out below her, its lush green canopy and towering trees creating a breathtaking view. She looks at the ancient artifact in her hand, a delicate crystal orb adorned with intricate symbols, a relieved smile spreading across her oval-shaped face as the sun sets behind her, casting a warm orange glow over the scene.\n"
     ]
    }
   ],
   "source": [
    "for i in range(len(story_1_improved)):\n",
    "    print(\"IMPROVED SCENE \" + str(i + 1) + \": \" + story_1_improved[i])"
   ]
  },
  {
   "cell_type": "markdown",
   "metadata": {},
   "source": [
    "Although the enhanced scene descriptions produced by the Llama model add useful character details, there are still noticeable inconsistencies across the scenes. For instance, the descriptions may introduce conflicting or overly vague physical characteristics for the same character in different scenes, which can disrupt continuity.\n",
    "\n",
    "If you choose to continue with a prompt-based approach, consider the following improvements:\n",
    "- Investigate ways to standardize prompts to ensure that character attributes, such as physical features and clothing, remain consistent across all scenes.\n",
    "- Explore how to provide more specific instructions in the prompt to maintain continuity, particularly in terms of character appearance and behavior.\n",
    "- Test different variations of prompts to see how minor adjustments affect the model's ability to generate coherent and consistent outputs.\n",
    "- Find ways to connect the improved scene descriptions with the way text-to-image models generate characters to ensure consistent images."
   ]
  },
  {
   "cell_type": "code",
   "execution_count": 6,
   "metadata": {},
   "outputs": [],
   "source": [
    "elara_profile = \"\"\"\n",
    "Elara is a tall, athletic woman with piercing blue eyes and shoulder-length red hair. \n",
    "She often wears a worn leather jacket and a brown satchel slung over her shoulder. \n",
    "Her demeanor is focused and determined, with an occasional hint of cautious curiosity.\n",
    "\"\"\"\n"
   ]
  },
  {
   "cell_type": "code",
   "execution_count": 7,
   "metadata": {},
   "outputs": [],
   "source": [
    "prompt_1 = (\n",
    "    \"The following is a detailed profile of the character to be used in the scenes:\\n\"\n",
    "    f\"{elara_profile}\\n\"\n",
    "    \"Rewrite the provided scene description by incorporating the physical characteristics, \"\n",
    "    \"clothing, and demeanor of the character described above. Ensure consistency in these details \"\n",
    "    \"across all scenes. Here is the scene: \"\n",
    ")\n"
   ]
  },
  {
   "cell_type": "code",
   "execution_count": 8,
   "metadata": {},
   "outputs": [],
   "source": [
    "# Additional context to ensure scene consistency\n",
    "prompt_context = (\n",
    "    \"Ensure the rewritten scene connects with the previous events in terms of setting, character \"\n",
    "    \"appearance, and actions. Avoid introducing any new or conflicting physical details, such as different clothing, \"\n",
    "    \"or mismatched physical traits for the character.\"\n",
    ")"
   ]
  },
  {
   "cell_type": "code",
   "execution_count": 9,
   "metadata": {},
   "outputs": [
    {
     "name": "stdout",
     "output_type": "stream",
     "text": [
      "IMPROVED SCENE 1: Elara stood tall, her piercing blue eyes scanning the old map spread out on the wooden table before her. Her hand rested on the lantern, its soft glow illuminating the creased and faded parchment. She wore a worn leather jacket, the scent of well-worn hide and polished metal hanging in the air as she examined the map with focused intensity. A brown satchel hung from her shoulder, the straps creaking slightly as she shifted her weight.\n",
      "\n",
      "Her red hair, now tied back in a practical ponytail, was mussed by the faint breeze rustling through the nearby trees. The dim light of the lantern danced across her features, casting an eerie glow on her determined expression. As she pondered the map's secrets, her eyes darting from one notation to another, a hint of cautious curiosity flickered in their depths.\n",
      "-----\n",
      "IMPROVED SCENE 2: Here's a rewritten scene that incorporates Elara's physical characteristics, clothing, and demeanor:\n",
      "\n",
      "Elara hacked at the underbrush with her machete, her piercing blue eyes scanning the dense jungle before her. She wore a worn leather jacket, its familiar scent of well-worn hide and polished metal mingling with the earthy aroma of the rainforest. A brown satchel hung from her shoulder, bouncing with each step as she pushed through the thicket. Her shoulder-length red hair was tied back in a practical ponytail, but strands had escaped to frame her determined expression.\n",
      "\n",
      "Sweat dripped down her forehead, trickling down her nose and onto her chin, but Elara didn't flinch. Her gaze remained fixed on some unseen point ahead, her jaw set in a resolute line. A hint of cautious curiosity flickered in the depths of her blue eyes as she navigated the treacherous terrain, her senses on high alert for any sign of danger.\n",
      "\n",
      "As she walked, the sun filtered through the thick canopy above, casting dappled shadows on the forest floor. Elara's focused intensity was undiminished by the sweltering heat and humidity, her every step calculated to uncover the secrets hidden within this unforgiving environment. The rustle of leaves and snapping of twigs beneath her feet served only as a reminder that she was not alone in this jungle – and she would be ready for whatever lay ahead.\n",
      "\n",
      "This rewritten scene maintains consistency with the original description by incorporating Elara's physical characteristics, clothing, and demeanor, while also connecting with previous events in terms of setting.\n",
      "-----\n",
      "IMPROVED SCENE 3: Here is a rewritten scene that incorporates Elara's physical characteristics, clothing, and demeanor:\n",
      "\n",
      "Elara stood before the imposing stone temple, her piercing blue eyes narrowing as she took in the intricate carvings adorning its walls. She wore a worn leather jacket, the familiar scent of well-worn hide and polished metal mingling with the musty aroma of age and decay. A brown satchel hung from her shoulder, the straps creaking slightly as she shifted her weight.\n",
      "\n",
      "Her shoulder-length red hair was whipped about by the wind, but she didn't bother to tame it, her focus fixed on the task at hand. Her determined expression was set in stone, a testament to her unwavering resolve. A hint of cautious curiosity flickered in the depths of her blue eyes as she pondered the secrets hidden within this ancient structure.\n",
      "\n",
      "As she stepped forward, the wind died down, and an unsettling silence fell over the temple grounds. Elara's gaze swept the surrounding area, her senses on high alert for any sign of danger. She was a woman accustomed to navigating treacherous terrain, and this place seemed no exception. With a deep breath, she pushed aside the massive stone doors, their hinges creaking in protest as they swung open with a soft groan.\n",
      "\n",
      "The dim light within cast long shadows across the floor, but Elara's eyes adjusted quickly, her trained gaze scanning the space for any signs of hidden dangers or ancient relics. Her hand rested on the hilt of her machete, now secured at her belt, its familiar weight a comforting presence in this foreboding place. With a steady breath, she stepped forward, ready to face whatever secrets lay within.\n",
      "\n",
      "This rewritten scene maintains consistency with the original description by incorporating Elara's physical characteristics, clothing, and demeanor, while also connecting with previous events in terms of setting and character actions.\n",
      "-----\n",
      "IMPROVED SCENE 4: Here's a rewritten scene that incorporates Elara's physical characteristics, clothing, and demeanor:\n",
      "\n",
      "As Elara stepped inside the temple, the soft glow of her lantern illuminated the worn stone walls, casting an eerie light on the intricate carvings that adorned them. Her piercing blue eyes scanned the markings with focused intensity, her hand running over the rough surface as she examined the symbols. She wore a worn leather jacket, now unzipped to reveal a plain white shirt underneath, the familiar scent of well-worn hide and polished metal mingling with the musty aroma of age and decay.\n",
      "\n",
      "A brown satchel hung from her shoulder, the straps creaking slightly as she shifted her weight, its contents jostled by her movement. Her shoulder-length red hair was mussed, but she didn't bother to tame it, her gaze fixed on the carvings as she pondered their secrets. A hint of cautious curiosity flickered in the depths of her blue eyes as she delved deeper into the mysteries hidden within these ancient walls.\n",
      "\n",
      "Her hand rested on the hilt of her machete, now secured at her belt, its familiar weight a comforting presence in this foreboding place. With a steady breath, Elara continued to examine the carvings, her trained gaze scouring the surface for any signs of hidden dangers or ancient relics. The silence within the temple was oppressive, but she didn't flinch, her determined expression set in stone as she pressed on, ready to face whatever secrets lay within.\n",
      "\n",
      "This rewritten scene maintains consistency with the original description by incorporating Elara's physical characteristics, clothing, and demeanor, while also connecting with previous events in terms of setting. The scene stays true to Elara's appearance, actions, and personality traits, providing a cohesive and immersive experience for the reader.\n",
      "-----\n",
      "IMPROVED SCENE 5: Here is the rewritten scene that incorporates Elara's physical characteristics, clothing, and demeanor:\n",
      "\n",
      "Elara knelt beside the hidden chest, her piercing blue eyes scanning the surrounding area with caution before focusing on the task at hand. She wore a worn leather jacket, its familiar scent of well-worn hide and polished metal mingling with the musty aroma of age and decay. A brown satchel hung from her shoulder, the straps creaking slightly as she shifted her weight.\n",
      "\n",
      "Her shoulder-length red hair was tied back in a practical ponytail, but stray strands had escaped to frame her determined expression. Her hand rested on the hilt of her machete, now secured at her belt, its familiar weight a comforting presence as she carefully pried open the chest's rusty lock. A hint of cautious curiosity flickered in the depths of her blue eyes as she gently lifted out the glowing artifact.\n",
      "\n",
      "As she cradled the artifact in her hands, its soft glow illuminated the dark space around her, casting an eerie light on the surrounding shadows. Elara's gaze swept the area once more, her senses on high alert for any sign of danger, before carefully placing the artifact into a protective cloth within her satchel. With a quiet breath, she stood up, her eyes never leaving the spot where the chest had been hidden, as if waiting to see if anything would stir from its concealment.\n",
      "\n",
      "This rewritten scene maintains consistency with the original description by incorporating Elara's physical characteristics, clothing, and demeanor, while also connecting with previous events in terms of setting.\n",
      "-----\n",
      "IMPROVED SCENE 6: Here is the rewritten scene that incorporates Elara's physical characteristics, clothing, and demeanor:\n",
      "\n",
      "Elara sprinted through the temple corridors, her piercing blue eyes scanning the path ahead with a mix of urgency and caution. She wore a worn leather jacket, its familiar scent of well-worn hide and polished metal mingling with the musty aroma of age and decay. A brown satchel hung from her shoulder, bouncing against her hip as she ran.\n",
      "\n",
      "Her shoulder-length red hair was tied back in a practical ponytail, but stray strands had escaped to frame her determined expression. Sweat dripped down her forehead, trickling down her nose and onto her chin, but Elara didn't flinch, her gaze fixed on the exit ahead. A hint of cautious curiosity flickered in the depths of her blue eyes as she navigated the treacherous terrain, her senses on high alert for any sign of danger.\n",
      "\n",
      "As she dodged crumbling debris and leapt over obstacles, the soft glow of the artifact within her satchel illuminated the dark space around her, casting eerie shadows on the walls. Elara's focused intensity was undiminished by the chaos surrounding her, her every step calculated to reach safety before it was too late.\n",
      "\n",
      "The temple's ancient stones seemed to close in around her as she ran, but she didn't falter, her determination driving her forward with a fierce resolve. The rustle of her jacket and the pounding of her footsteps were the only sounds that broke the silence, until suddenly, she burst through the exit, gasping in the cool night air.\n",
      "\n",
      "This rewritten scene maintains consistency with the original description by incorporating Elara's physical characteristics, clothing, and demeanor, while also connecting with previous events in terms of setting. The scene stays true to Elara's appearance, actions, and personality traits, providing a cohesive and immersive experience for the reader.\n",
      "-----\n",
      "IMPROVED SCENE 7: Here's the rewritten scene:\n",
      "\n",
      "Elara emerged from the temple, her piercing blue eyes scanning the horizon as she took deep breaths of the fresh air. The worn leather jacket on her back seemed to relax against her shoulders now that she was no longer in a hurry. A brown satchel hung from her shoulder, the straps creaking slightly with each movement.\n",
      "\n",
      "Her shoulder-length red hair was mussed, but stray strands had escaped to frame her determined expression. Sweat dripped down her forehead, trickling down her nose and onto her chin, but Elara didn't flinch, her gaze fixed on the surrounding jungle as she tried to process what she'd just uncovered. A hint of cautious curiosity flickered in the depths of her blue eyes as she turned over the secrets hidden within those ancient walls.\n",
      "\n",
      "As she gazed out at the vast expanse of green below, Elara's hand rested on the hilt of her machete, now secured at her belt. The familiar weight was a comforting presence after navigating the treacherous temple corridors. She took one last look at the spot where she'd discovered the hidden chest, making sure no signs of danger lingered.\n",
      "\n",
      "With a quiet breath, Elara turned away from the temple and began her descent into the jungle. The rustle of leaves and snapping of twigs beneath her feet were the only sounds that broke the silence as she vanished into the dense foliage, leaving behind the secrets of the ancient structure.\n",
      "-----\n"
     ]
    }
   ],
   "source": [
    "# Sequence of story scenes\n",
    "story_3 = [\n",
    "    \"Elara stares at an old map spread out on a wooden table, her hand resting on a lantern. She wears a worn leather jacket, and a satchel hangs at her side. The dim light flickers as she studies the map, deep in thought.\",\n",
    "    \"Elara hikes through a dense jungle, using a machete to clear her path. Sweat drips down her forehead, and her satchel bounces with each step. The sun filters through the thick canopy above her.\",\n",
    "    \"Elara stands at the entrance of an ancient stone temple, the wind whipping her hair. She adjusts her satchel and steps forward, determination in her eyes.\",\n",
    "    \"Inside the temple, Elara examines carvings on the wall, her lantern illuminating the worn stone. Her jacket is now unzipped, revealing a plain shirt underneath, as she runs her fingers over the markings.\",\n",
    "    \"Elara crouches beside a hidden chest, carefully prying it open. Inside, a glowing artifact rests on a bed of cloth. She glances around warily before gently lifting the artifact into her hands.\",\n",
    "    \"Elara races through the temple corridors, the artifact glowing brightly in her satchel. Her jacket flutters behind her as she dodges crumbling debris, her expression a mix of fear and urgency.\",\n",
    "    \"Outside the temple, Elara catches her breath, standing on a cliff with the jungle stretching out below. She looks at the artifact in her hand, a relieved smile spreading across her face as the sun sets behind her.\"\n",
    "]\n",
    "\n",
    "# Process each scene to enhance character consistency\n",
    "story_3_improved = []\n",
    "previous_context = \"\"  # Store context from previous scenes\n",
    "\n",
    "for i in range(len(story_3)):\n",
    "    full_prompt = (\n",
    "        prompt_1 + previous_context + prompt_context + story_3[i]\n",
    "    )\n",
    "    response = ollama_client.chat(model=ollama_llm_model, messages=[\n",
    "        {\"role\": \"user\", \"content\": full_prompt}\n",
    "    ])\n",
    "    improved_scene = response[\"message\"][\"content\"]\n",
    "    story_3_improved.append(improved_scene)\n",
    "\n",
    "    # Update context for the next scene\n",
    "    previous_context += \" \" + improved_scene\n",
    "\n",
    "# Print improved scene descriptions\n",
    "for i, scene in enumerate(story_3_improved):\n",
    "    print(f\"IMPROVED SCENE {i + 1}: {scene}\")\n",
    "    print(\"-----\")"
   ]
  }
 ],
 "metadata": {
  "kernelspec": {
   "display_name": "genai_challenge",
   "language": "python",
   "name": "python3"
  },
  "language_info": {
   "codemirror_mode": {
    "name": "ipython",
    "version": 3
   },
   "file_extension": ".py",
   "mimetype": "text/x-python",
   "name": "python",
   "nbconvert_exporter": "python",
   "pygments_lexer": "ipython3",
   "version": "3.13.0"
  }
 },
 "nbformat": 4,
 "nbformat_minor": 2
}
