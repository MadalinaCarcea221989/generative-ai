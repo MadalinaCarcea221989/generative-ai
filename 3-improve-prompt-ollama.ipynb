{
 "cells": [
  {
   "cell_type": "markdown",
   "metadata": {},
   "source": [
    "# Generative AI Challenge: Improving Scene Descriptions\n",
    "\n",
    "In this notebook, you will learn how to use the Llama model through the Ollama API to enhance scene descriptions by adding more details to the descriptions of the characters in a story. This is useful when working with generative AI models, where enriching the descriptions can help improve the generated images or story contexts."
   ]
  },
  {
   "cell_type": "markdown",
   "metadata": {},
   "source": [
    "### 1. Setting Up the Environment\n",
    "\n",
    "To start, you need to install the necessary package to interact with the Ollama server. This package cannot be installed via Conda, so you'll need to use pip:\n",
    "\n",
    "`pip install ollama`\n",
    "\n",
    "Once installed, you can proceed to interact with the Llama model via the Ollama API."
   ]
  },
  {
   "cell_type": "markdown",
   "metadata": {},
   "source": [
    "### 2. Basic Text Generation Using the  Ollama API\n",
    "\n",
    "We begin by importing the necessary library for this task:"
   ]
  },
  {
   "cell_type": "code",
   "execution_count": 1,
   "metadata": {},
   "outputs": [],
   "source": [
    "import base64\n",
    "from ollama import Client"
   ]
  },
  {
   "cell_type": "markdown",
   "metadata": {},
   "source": [
    "Next, we define the server address, authentication details, and the Llama model we will use for the task:\n",
    "- `ollama_server_address`: This is the address of the Ollama server where the Llama model is running.\n",
    "- `ollama_llm_model`: This specifies which model to use. In this example, we are using the Llama 3.1 8B model."
   ]
  },
  {
   "cell_type": "code",
   "execution_count": 2,
   "metadata": {},
   "outputs": [],
   "source": [
    "ollama_server_address = \"buas9.edirlei.com\"\n",
    "ollama_username = \"adsai\"\n",
    "ollama_password = \"uuUP4whjX29cF3cxwrX3SY5Mm9TmtASkdgpaNCTHZ9\"\n",
    "ollama_credentials = base64.b64encode(f\"{ollama_username}:{ollama_password}\".encode('utf-8')).decode('utf-8')\n",
    "ollama_auth_header = f\"Basic {ollama_credentials}\"\n",
    "\n",
    "ollama_llm_model = \"llama3.1:8b\""
   ]
  },
  {
   "cell_type": "markdown",
   "metadata": {},
   "source": [
    "Now we cab initialize the Ollama client with the server address:"
   ]
  },
  {
   "cell_type": "code",
   "execution_count": 3,
   "metadata": {},
   "outputs": [],
   "source": [
    "ollama_client = Client(host=f\"http://{ollama_server_address}\", headers = {\"Authorization\": ollama_auth_header})"
   ]
  },
  {
   "cell_type": "markdown",
   "metadata": {},
   "source": [
    "To see how the Ollama API works, we'll start with a simple example by asking the model a common question: Why is the sky blue?. The following code sends a request to the model, and then prints the response:"
   ]
  },
  {
   "cell_type": "code",
   "execution_count": 4,
   "metadata": {},
   "outputs": [
    {
     "name": "stdout",
     "output_type": "stream",
     "text": [
      "The sky appears blue to us because of a phenomenon called scattering. Here's why:\n",
      "\n",
      "1. **Sunlight**: The sun emits all colors of light, including blue and red.\n",
      "2. **Atmospheric gases**: When sunlight enters Earth's atmosphere, it encounters various gases such as nitrogen (N2) and oxygen (O2). These molecules are much smaller than the wavelength of visible light.\n",
      "3. **Scattering**: As sunlight interacts with these tiny molecules, they scatter shorter wavelengths more efficiently than longer wavelengths. This is known as Rayleigh scattering, named after the British physicist Lord Rayleigh who first described it in the late 19th century.\n",
      "4. **Blue light dominates**: Since blue light has a shorter wavelength (around 450-495 nanometers), it scatters much more easily and travels in all directions through the atmosphere, reaching our eyes from every part of the sky.\n",
      "\n",
      "Red light, on the other hand, has a longer wavelength (around 620-750 nanometers) and is scattered less. As a result, most of the red light passes straight through the atmosphere without being scattered as much, giving us the impression that the sun itself appears yellowish or orange due to the dominant presence of red light.\n",
      "\n",
      "**Why not violet?**: You might wonder why the sky isn't purple, since violet light is even shorter in wavelength than blue. The reason lies in the way our eyes and brains process visual information. Violet light is scattered just as much as blue light, but it's absorbed by the ozone layer and other atmospheric gases to a greater extent, making blue the most apparent color.\n",
      "\n",
      "**Variations**: The exact shade of blue we see can vary depending on atmospheric conditions:\n",
      "\n",
      "* **Clouds**: If there are clouds in the sky, they reflect sunlight and make the sky appear white or light gray.\n",
      "* **Pollution**: In cities with high levels of air pollution, the sky may take on a more hazy appearance due to particles scattering light in all directions.\n",
      "* **Time of day**: During sunrise and sunset, when the sun's rays pass through more atmosphere to reach us, the sky can appear orange or reddish.\n",
      "\n",
      "Now, next time you gaze up at that brilliant blue sky, remember the tiny molecules in our atmosphere doing their thing to make it possible!\n"
     ]
    }
   ],
   "source": [
    "response = ollama_client.chat(model=ollama_llm_model, messages=[\n",
    "  {\n",
    "    \"role\": \"user\",\n",
    "    \"content\": \"Why is the sky blue?\",\n",
    "  },\n",
    "])\n",
    "print(response[\"message\"][\"content\"])"
   ]
  },
  {
   "cell_type": "markdown",
   "metadata": {},
   "source": [
    "### 3. Improving Scene Descriptions Using the Ollama API\n",
    "\n",
    "Now, let's use the Llama model to enhance scene descriptions by describing the physical characteristics of the characters in the scenes. Let's first define a sequence of story events:"
   ]
  },
  {
   "cell_type": "code",
   "execution_count": 5,
   "metadata": {},
   "outputs": [],
   "source": [
    "story_1 = [\"Elara stares at an old map spread out on a wooden table, her hand resting on a lantern. She wears a worn leather jacket, and a satchel hangs at her side. The dim light flickers as she studies the map, deep in thought.\", \n",
    "           \"Elara hikes through a dense jungle, using a machete to clear her path. Sweat drips down her forehead, and her satchel bounces with each step. The sun filters through the thick canopy above her.\",\n",
    "           \"Elara stands at the entrance of an ancient stone temple, the wind whipping her hair. She adjusts her satchel and steps forward, determination in her eyes.\",\n",
    "           \"Inside the temple, Elara examines carvings on the wall, her lantern illuminating the worn stone. Her jacket is now unzipped, revealing a plain shirt underneath, as she runs her fingers over the markings.\",\n",
    "           \"Elara crouches beside a hidden chest, carefully prying it open. Inside, a glowing artifact rests on a bed of cloth. She glances around warily before gently lifting the artifact into her hands.\",\n",
    "           \"Elara races through the temple corridors, the artifact glowing brightly in her satchel. Her jacket flutters behind her as she dodges crumbling debris, her expression a mix of fear and urgency.\",\n",
    "           \"Outside the temple, Elara catches her breath, standing on a cliff with the jungle stretching out below. She looks at the artifact in her hand, a relieved smile spreading across her face as the sun sets behind her.\"]"
   ]
  },
  {
   "cell_type": "markdown",
   "metadata": {},
   "source": [
    "Next, we define the prompt that will instruct the model to rewrite the scene descriptions by adding physical characteristics:"
   ]
  },
  {
   "cell_type": "code",
   "execution_count": 6,
   "metadata": {},
   "outputs": [],
   "source": [
    "prompt_1 = \"Rewrite the provided scene description by adding the physical characteristics of characters mentioned in the scene. Write only the final scene description in a concise way without adding any commentary or header. Here is the scene: \""
   ]
  },
  {
   "cell_type": "markdown",
   "metadata": {},
   "source": [
    "We then loop through the story scenes and send each one to the Llama model, storing the improved versions in a new list:"
   ]
  },
  {
   "cell_type": "code",
   "execution_count": 7,
   "metadata": {},
   "outputs": [],
   "source": [
    "story_1_improved = []\n",
    "\n",
    "for i in range(len(story_1)):\n",
    "    response = ollama_client.chat(model=ollama_llm_model, messages=[\n",
    "        {\n",
    "            \"role\": \"user\",\n",
    "            \"content\": prompt_1 + story_1[i],\n",
    "        },\n",
    "    ])\n",
    "    story_1_improved.append(response[\"message\"][\"content\"])"
   ]
  },
  {
   "cell_type": "markdown",
   "metadata": {},
   "source": [
    "Finally, we print the improved scene descriptions:"
   ]
  },
  {
   "cell_type": "code",
   "execution_count": 8,
   "metadata": {},
   "outputs": [
    {
     "name": "stdout",
     "output_type": "stream",
     "text": [
      "IMPROVED SCENE 1: Elara, with her wild, curly brown hair and piercing emerald eyes, stares at an old map spread out on a wooden table, her hand resting on a lantern. Her worn leather jacket is stained and frayed from years of travel, and a satchel hangs at her side, its strap creaking under the weight of various trinkets and gadgets. The dim light flickers as she studies the map, deep in thought, her brow furrowed into a determined expression that speaks to her many trials and tribulations.\n",
      "IMPROVED SCENE 2: A woman with long, dark hair tied back in a messy bun and a scattering of freckles across her cheeks hikes through a dense jungle, using a machete to clear her path as she navigates around tangled vines and thorns. Sweat drips down her forehead, and the worn leather strap of her satchel bounces with each step, its canvas exterior stained from unknown substances. The sun filters through the thick canopy above her, casting dappled shadows on the forest floor.\n",
      "IMPROVED SCENE 3: Elara, with her unruly brown hair blowing wildly around her heart-shaped face and piercing emerald eyes, stands at the entrance of an ancient stone temple, the wind whipping her long coat and billowing its hem. Her fingers tighten on the strap of her worn leather satchel as she adjusts it, a look of fierce determination etched across her angular features.\n",
      "IMPROVED SCENE 4: Inside the temple, Elara, with long dark hair and piercing emerald eyes, examines intricate carvings on the wall, her lantern illuminating the worn stone beneath. Her leather jacket, now unzipped, reveals a plain white shirt underneath, as she runs her fingers over the markings, her slender hands moving deftly across the ancient stones.\n",
      "IMPROVED SCENE 5: Elara, a petite woman with long, curly brown hair and piercing emerald green eyes, crouches beside a hidden chest, carefully prying it open. Inside, a glowing artifact rests on a bed of cloth. She glances around warily before gently lifting the artifact into her hands.\n",
      "IMPROVED SCENE 6: Elara, a petite woman with short, spiky black hair and piercing emerald eyes, rushes through the temple corridors, the artifact's soft blue glow illuminating the dark space from within her satchel. Her worn leather jacket flails behind her like a dark wing as she dodges crumbling stone and flickering torches, her face a map of worry etched across high cheekbones and a pointed chin.\n",
      "IMPROVED SCENE 7: Outside the temple, Elara - a petite, raven-haired woman with piercing emerald eyes and an athletic build - catches her breath, standing on a cliff with the dense jungle stretching out below her, its lush green canopy and towering trees creating a breathtaking view. She looks at the ancient artifact in her hand, a delicate crystal orb adorned with intricate symbols, a relieved smile spreading across her oval-shaped face as the sun sets behind her, casting a warm orange glow over the scene.\n"
     ]
    }
   ],
   "source": [
    "for i in range(len(story_1_improved)):\n",
    "    print(\"IMPROVED SCENE \" + str(i + 1) + \": \" + story_1_improved[i])"
   ]
  },
  {
   "cell_type": "markdown",
   "metadata": {},
   "source": [
    "Although the enhanced scene descriptions produced by the Llama model add useful character details, there are still noticeable inconsistencies across the scenes. For instance, the descriptions may introduce conflicting or overly vague physical characteristics for the same character in different scenes, which can disrupt continuity.\n",
    "\n",
    "If you choose to continue with a prompt-based approach, consider the following improvements:\n",
    "- Investigate ways to standardize prompts to ensure that character attributes, such as physical features and clothing, remain consistent across all scenes.\n",
    "- Explore how to provide more specific instructions in the prompt to maintain continuity, particularly in terms of character appearance and behavior.\n",
    "- Test different variations of prompts to see how minor adjustments affect the model's ability to generate coherent and consistent outputs.\n",
    "- Find ways to connect the improved scene descriptions with the way text-to-image models generate characters to ensure consistent images."
   ]
  }
 ],
 "metadata": {
  "kernelspec": {
   "display_name": "genai_challenge",
   "language": "python",
   "name": "python3"
  },
  "language_info": {
   "codemirror_mode": {
    "name": "ipython",
    "version": 3
   },
   "file_extension": ".py",
   "mimetype": "text/x-python",
   "name": "python",
   "nbconvert_exporter": "python",
   "pygments_lexer": "ipython3",
   "version": "3.13.0"
  }
 },
 "nbformat": 4,
 "nbformat_minor": 2
}
